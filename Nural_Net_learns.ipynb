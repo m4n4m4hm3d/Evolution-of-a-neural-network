{
 "cells": [
  {
   "cell_type": "markdown",
   "id": "ad862ac6-c93b-45cf-a89e-13a330be44f8",
   "metadata": {},
   "source": [
    "# Libraries"
   ]
  },
  {
   "cell_type": "code",
   "execution_count": null,
   "id": "3a0f942b-80f2-41a4-b840-55c11ce5a829",
   "metadata": {},
   "outputs": [],
   "source": [
    "import matplotlib\n",
    "import numpy as np\n",
    "import matplotlib.pyplot as plt\n",
    "import tensorflow as tf\n",
    "from matplotlib import style, animation\n",
    "from IPython import display"
   ]
  },
  {
   "cell_type": "markdown",
   "id": "86efb0a0-42cd-45bc-9ed1-ac26ae8f7416",
   "metadata": {},
   "source": [
    "# Data"
   ]
  },
  {
   "cell_type": "markdown",
   "id": "b1ea725a-6240-4b3d-bb8c-d7baf3085df6",
   "metadata": {},
   "source": [
    "## This one is for clear scatter plot :')"
   ]
  },
  {
   "cell_type": "code",
   "execution_count": null,
   "id": "dee4a6a1-3943-4e78-86e0-e8ba02dd953a",
   "metadata": {},
   "outputs": [],
   "source": [
    "X = np.linspace(0, 2*np.pi, 100)\n",
    "Y = np.sin(X)"
   ]
  },
  {
   "cell_type": "markdown",
   "id": "ccdca10f-130e-4666-ac17-b960ccd659bb",
   "metadata": {},
   "source": [
    "## Train Data"
   ]
  },
  {
   "cell_type": "code",
   "execution_count": null,
   "id": "f23f69ae-d811-4907-a66c-29f614631c3c",
   "metadata": {},
   "outputs": [],
   "source": [
    "x = np.linspace(0, 2*np.pi, 1000)\n",
    "y = np.sin(x)"
   ]
  },
  {
   "cell_type": "markdown",
   "id": "0d6e71bc-1a20-404d-8a51-3ef5fee81835",
   "metadata": {},
   "source": [
    "# Model"
   ]
  },
  {
   "cell_type": "code",
   "execution_count": null,
   "id": "700cfc72-9f62-477f-bc64-046c83ec08d8",
   "metadata": {},
   "outputs": [],
   "source": [
    "model = tf.keras.models.Sequential()\n",
    "model.add(tf.keras.layers.Input(shape=(1,)))\n",
    "model.add(tf.keras.layers.Dense(10, activation='tanh'))\n",
    "model.add(tf.keras.layers.Dense(1))\n",
    "model.compile(optimizer=\"adam\", loss=\"mse\")"
   ]
  },
  {
   "cell_type": "markdown",
   "id": "4e90c7b7-3006-4565-8e19-a659bc2b349e",
   "metadata": {},
   "source": [
    "# This cell will make a plot after each epoch"
   ]
  },
  {
   "cell_type": "code",
   "execution_count": 8,
   "id": "da4ec146-699f-4de3-a2c4-51925c8a3254",
   "metadata": {},
   "outputs": [],
   "source": [
    "%matplotlib tk\n",
    "style.use('dark_background')\n",
    "\n",
    "def viz(cycle, fig):\n",
    "    model.fit(x, y, epochs = 1)\n",
    "    y_pred = model.predict(x)\n",
    "    ax0 = plt.subplot2grid((1,1), (0,0), rowspan=1, colspan=1)\n",
    "    ax0.scatter(X, Y, label='True Sine Wave', s= 10)\n",
    "    ax0.plot(x, y_pred, label=\"Predicted Sine Wave\", color = \"yellow\")\n",
    "    ax0.axis('off')\n",
    "    ax0.set_xlim(0, 2 * np.pi) \n",
    "    ax0.set_ylim(-1.5, 1.5)\n",
    "    ax0.text(0.7, 0.9, 'Fitting a Neural Network to Predict\\n Sine Waves', fontsize=17, color='white', ha='center', transform=ax0.transAxes)\n",
    "    fig.text(0.08, .035, \"Github: @m4n4m4hm3d\" , fontsize=9, color=\"white\", ha='center')\n",
    "    ax0.text(0.01, 0.9, f'Epoch: {cycle}', fontsize=10, color='white', transform=ax0.transAxes)\n",
    "    ax0.legend(loc='center', bbox_to_anchor=(0.7, 0.84), prop={'size': 7})"
   ]
  },
  {
   "cell_type": "markdown",
   "id": "f9f0922c-80f6-41e1-9caf-09766686386b",
   "metadata": {},
   "source": [
    "# This cell is for animation, and it will also save all the images to a file. Make sure you have created the file.\""
   ]
  },
  {
   "cell_type": "code",
   "execution_count": null,
   "id": "1b425eee-598e-4cd2-b884-ba367343bff2",
   "metadata": {},
   "outputs": [],
   "source": [
    "fig = plt.figure(figsize=(14, 12))\n",
    "def animate(i, fig):\n",
    "    fig.clear()\n",
    "    viz(i, fig)\n",
    "    plt.savefig(f'layer_outs/frame_{i:03d}.png', dpi=105) #Replace layer_outs with the file you created.\n",
    "\n",
    "ani = animation.FuncAnimation(fig, animate, frames=1000 , fargs=(fig,), interval=100)\n",
    "plt.show()"
   ]
  },
  {
   "cell_type": "markdown",
   "id": "44fd5f99-8831-491d-86ac-7ef55ab01645",
   "metadata": {},
   "source": [
    "# This cell will create a video from the images you have saved."
   ]
  },
  {
   "cell_type": "code",
   "execution_count": null,
   "id": "f40728ef-01c1-485c-81a1-01b349a1861f",
   "metadata": {},
   "outputs": [],
   "source": [
    "import imageio\n",
    "import os\n",
    "\n",
    "\n",
    "image_directory = 'layer_outs/'\n",
    "output_video = 'sine_wave_prediction1.mp4'\n",
    "fps = 5  \n",
    "\n",
    "\n",
    "image_files = sorted([img for img in os.listdir(image_directory) if img.endswith(\".png\")])\n",
    "\n",
    "# Create a video writer object\n",
    "with imageio.get_writer(output_video, fps=fps) as writer:\n",
    "    for image_file in image_files:\n",
    "        image_path = os.path.join(image_directory, image_file)\n",
    "        # Read the image and append it to the video\n",
    "        image = imageio.imread(image_path)\n",
    "        writer.append_data(image)\n",
    "\n",
    "print(\"Video created successfully.\")"
   ]
  }
 ],
 "metadata": {
  "kernelspec": {
   "display_name": "Python 3 (ipykernel)",
   "language": "python",
   "name": "python3"
  },
  "language_info": {
   "codemirror_mode": {
    "name": "ipython",
    "version": 3
   },
   "file_extension": ".py",
   "mimetype": "text/x-python",
   "name": "python",
   "nbconvert_exporter": "python",
   "pygments_lexer": "ipython3",
   "version": "3.12.6"
  }
 },
 "nbformat": 4,
 "nbformat_minor": 5
}
